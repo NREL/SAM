{
 "cells": [
  {
   "cell_type": "markdown",
   "metadata": {},
   "source": [
    "# SNOTEL depth data processor\n",
    "\n",
    "This notebook assists with processing daily snow data in inches (SNOTEL format)\n",
    "into hourly snow depth in cm (SAM snow model format)"
   ]
  },
  {
   "cell_type": "code",
   "execution_count": 2,
   "metadata": {},
   "outputs": [],
   "source": [
    "# Import required packages\n",
    "import numpy as np\n",
    "import pandas as pd\n",
    "import csv"
   ]
  },
  {
   "cell_type": "markdown",
   "metadata": {},
   "source": [
    "Set the file path for the downloaded data\n",
    "\n",
    "SNOTEL data is formatted by water year: 2003 means October 2002 to September 2003\n",
    "NSRDB data is calendar year.\n",
    "Calendar year end should be calender year start + 1"
   ]
  },
  {
   "cell_type": "code",
   "execution_count": 1,
   "metadata": {},
   "outputs": [],
   "source": [
    "filename = \"Crosho.csv\"\n",
    "calendar_year_start = \"2003\"\n",
    "calendar_year_end = \"2004\" # TODO: consider automating this with string conversion, either here or in pandas\n",
    "out_filename = \"crosho_2003.csv\""
   ]
  },
  {
   "cell_type": "markdown",
   "metadata": {},
   "source": [
    "Run the cell below to import the data as a dataframe and get an array of 365 days"
   ]
  },
  {
   "cell_type": "code",
   "execution_count": 3,
   "metadata": {},
   "outputs": [],
   "source": [
    "df = pd.read_csv(filename)\n",
    "\n",
    "last_3_mo = 31+30+31 # Days in Oct to Sec \n",
    "first_2_mo = 31+28 # Jan and Feb - skips leap days\n",
    "next_9_mo = last_3_mo + first_2_mo + 1 # Start point 9 months before end of calendar year\n",
    "\n",
    "jan_feb = df[calendar_year_start].loc[(last_3_mo):(last_3_mo + first_2_mo - 1)].values\n",
    "mar_sept = df[calendar_year_start ].loc[next_9_mo:].values\n",
    "oct_dec = df[calendar_year_end].loc[:(last_3_mo - 1)].values\n",
    "\n",
    "ay_data = np.concatenate([jan_feb, mar_sept, oct_dec], axis=0)"
   ]
  },
  {
   "cell_type": "markdown",
   "metadata": {},
   "source": [
    "Convert from hourly data to daily data and inches to cm. Ends with 8760 array"
   ]
  },
  {
   "cell_type": "code",
   "execution_count": 3,
   "metadata": {},
   "outputs": [
    {
     "name": "stdout",
     "output_type": "stream",
     "text": [
      "8760\n"
     ]
    }
   ],
   "source": [
    "in_to_cm = 2.54\n",
    "timeseries_data = []\n",
    "for d in ay_data:\n",
    "    for i in range(0, 24):\n",
    "        timeseries_data.append(d * in_to_cm)\n",
    "\n",
    "# print(len(timeseries_data)) # Uncomment for debugging"
   ]
  },
  {
   "cell_type": "markdown",
   "metadata": {},
   "source": [
    "Write array to file"
   ]
  },
  {
   "cell_type": "code",
   "execution_count": 4,
   "metadata": {},
   "outputs": [],
   "source": [
    "\n",
    "file = open(out_filename, 'w+', newline ='')\n",
    "\n",
    "with file:\n",
    "    write = csv.writer(file)\n",
    "    write.writerows(map(lambda x: [x], timeseries_data))"
   ]
  },
  {
   "cell_type": "code",
   "execution_count": 52,
   "metadata": {},
   "outputs": [
    {
     "data": {
      "text/plain": [
       "492191.04000000097"
      ]
     },
     "execution_count": 52,
     "metadata": {},
     "output_type": "execute_result"
    }
   ],
   "source": [
    "# Debugging and data applicability check: sum of hourly snow depths\n",
    "sum(timeseries_data)"
   ]
  }
 ],
 "metadata": {
  "kernelspec": {
   "display_name": "pysam_pip",
   "language": "python",
   "name": "python3"
  },
  "language_info": {
   "codemirror_mode": {
    "name": "ipython",
    "version": 3
   },
   "file_extension": ".py",
   "mimetype": "text/x-python",
   "name": "python",
   "nbconvert_exporter": "python",
   "pygments_lexer": "ipython3",
   "version": "3.10.10"
  }
 },
 "nbformat": 4,
 "nbformat_minor": 2
}
